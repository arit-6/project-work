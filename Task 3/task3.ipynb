{
 "cells": [
  {
   "cell_type": "code",
   "execution_count": 48,
   "id": "772fb713-a1ac-49c6-ae97-96522170605c",
   "metadata": {},
   "outputs": [],
   "source": [
    "import pandas as pd"
   ]
  },
  {
   "cell_type": "code",
   "execution_count": 49,
   "id": "2834760e-f004-4f28-90f2-761ee32e7ef3",
   "metadata": {},
   "outputs": [],
   "source": [
    "data = pd.read_excel(\"rawdata.xlsx\")"
   ]
  },
  {
   "cell_type": "code",
   "execution_count": 50,
   "id": "354edb75-2430-4f1c-999a-eb17bc0e632a",
   "metadata": {},
   "outputs": [
    {
     "data": {
      "text/html": [
       "<div>\n",
       "<style scoped>\n",
       "    .dataframe tbody tr th:only-of-type {\n",
       "        vertical-align: middle;\n",
       "    }\n",
       "\n",
       "    .dataframe tbody tr th {\n",
       "        vertical-align: top;\n",
       "    }\n",
       "\n",
       "    .dataframe thead th {\n",
       "        text-align: right;\n",
       "    }\n",
       "</style>\n",
       "<table border=\"1\" class=\"dataframe\">\n",
       "  <thead>\n",
       "    <tr style=\"text-align: right;\">\n",
       "      <th></th>\n",
       "      <th>date</th>\n",
       "      <th>time</th>\n",
       "      <th>sensor</th>\n",
       "      <th>location</th>\n",
       "      <th>number</th>\n",
       "      <th>activity</th>\n",
       "      <th>position</th>\n",
       "      <th>location.1</th>\n",
       "    </tr>\n",
       "  </thead>\n",
       "  <tbody>\n",
       "    <tr>\n",
       "      <th>56</th>\n",
       "      <td>2024-01-16</td>\n",
       "      <td>01:00:20</td>\n",
       "      <td>1.0</td>\n",
       "      <td>A1</td>\n",
       "      <td>1</td>\n",
       "      <td>placed</td>\n",
       "      <td>inside</td>\n",
       "      <td>A1</td>\n",
       "    </tr>\n",
       "    <tr>\n",
       "      <th>17</th>\n",
       "      <td>2024-01-16</td>\n",
       "      <td>11:48:20</td>\n",
       "      <td>1.0</td>\n",
       "      <td>A18</td>\n",
       "      <td>1</td>\n",
       "      <td>picked</td>\n",
       "      <td>inside</td>\n",
       "      <td>A18</td>\n",
       "    </tr>\n",
       "    <tr>\n",
       "      <th>166</th>\n",
       "      <td>2024-01-18</td>\n",
       "      <td>12:05:22</td>\n",
       "      <td>0.0</td>\n",
       "      <td>A4</td>\n",
       "      <td>2</td>\n",
       "      <td>placed</td>\n",
       "      <td>inside</td>\n",
       "      <td>A4</td>\n",
       "    </tr>\n",
       "    <tr>\n",
       "      <th>106</th>\n",
       "      <td>2024-01-18</td>\n",
       "      <td>11:50:20</td>\n",
       "      <td>1.0</td>\n",
       "      <td>A23</td>\n",
       "      <td>1</td>\n",
       "      <td>placed</td>\n",
       "      <td>inside</td>\n",
       "      <td>A23</td>\n",
       "    </tr>\n",
       "    <tr>\n",
       "      <th>111</th>\n",
       "      <td>2024-01-18</td>\n",
       "      <td>12:35:30</td>\n",
       "      <td>1.0</td>\n",
       "      <td>A28</td>\n",
       "      <td>1</td>\n",
       "      <td>placed</td>\n",
       "      <td>inside</td>\n",
       "      <td>A28</td>\n",
       "    </tr>\n",
       "  </tbody>\n",
       "</table>\n",
       "</div>"
      ],
      "text/plain": [
       "          date      time  sensor location  number activity position location.1\n",
       "56  2024-01-16  01:00:20     1.0       A1       1   placed   inside         A1\n",
       "17  2024-01-16  11:48:20     1.0      A18       1   picked   inside        A18\n",
       "166 2024-01-18  12:05:22     0.0       A4       2   placed   inside         A4\n",
       "106 2024-01-18  11:50:20     1.0      A23       1   placed   inside        A23\n",
       "111 2024-01-18  12:35:30     1.0      A28       1   placed   inside        A28"
      ]
     },
     "execution_count": 50,
     "metadata": {},
     "output_type": "execute_result"
    }
   ],
   "source": [
    "data.sample(5)"
   ]
  },
  {
   "cell_type": "markdown",
   "id": "f562c34f-fa6b-4261-ab05-117e4c47b679",
   "metadata": {},
   "source": [
    "Task: Use rawdata as input and derive\n",
    "1. Datewise total duration for each inside and outside.\n",
    "2. Datewise number of picking and placing activity done.\n",
    "Sample output shared in output sheet.\n"
   ]
  },
  {
   "cell_type": "code",
   "execution_count": 51,
   "id": "6e17cbcf-eded-443b-9e12-7f085a20d391",
   "metadata": {},
   "outputs": [
    {
     "name": "stdout",
     "output_type": "stream",
     "text": [
      "<class 'pandas.core.frame.DataFrame'>\n",
      "RangeIndex: 175 entries, 0 to 174\n",
      "Data columns (total 8 columns):\n",
      " #   Column      Non-Null Count  Dtype         \n",
      "---  ------      --------------  -----         \n",
      " 0   date        175 non-null    datetime64[ns]\n",
      " 1   time        175 non-null    object        \n",
      " 2   sensor      174 non-null    float64       \n",
      " 3   location    175 non-null    object        \n",
      " 4   number      175 non-null    int64         \n",
      " 5   activity    175 non-null    object        \n",
      " 6   position    175 non-null    object        \n",
      " 7   location.1  175 non-null    object        \n",
      "dtypes: datetime64[ns](1), float64(1), int64(1), object(5)\n",
      "memory usage: 11.1+ KB\n"
     ]
    }
   ],
   "source": [
    "data.info()"
   ]
  },
  {
   "cell_type": "code",
   "execution_count": 52,
   "id": "a16781ac-7da0-432a-a74d-4f719cb207c6",
   "metadata": {},
   "outputs": [],
   "source": [
    "# Replace 'Inside' with 'inside'\n",
    "data['position'] = data['position'].replace('Inside', 'inside')"
   ]
  },
  {
   "cell_type": "code",
   "execution_count": 53,
   "id": "3a028aef-e068-442a-a016-8fbdadaeefce",
   "metadata": {},
   "outputs": [],
   "source": [
    "#Converting the time column in total seconds\n",
    "data[\"time\"] = data[\"time\"].astype(str)\n",
    "\n",
    "def time_to_hours(time_str):\n",
    "    # Split the time string into hours, minutes, and seconds\n",
    "    hours, minutes, seconds = map(int, time_str.split(':'))\n",
    "    \n",
    "    # Convert each part to seconds\n",
    "    total_seconds = hours * 3600 + minutes * 60 + seconds\n",
    "    total_hours = round(total_seconds / 3600, 1)\n",
    "    \n",
    "    return total_hours\n",
    "\n",
    "\n",
    "data[\"time_in_hours\"] = data[\"time\"].apply(time_to_hours)"
   ]
  },
  {
   "cell_type": "code",
   "execution_count": 54,
   "id": "d59682b0-0ceb-41b8-b840-1510cf33b809",
   "metadata": {},
   "outputs": [],
   "source": [
    "# Group the data by date and position, then sum the time_in_hours for each group\n",
    "total_time_by_date_position = data.groupby(['date', 'position'])['time_in_hours'].sum()"
   ]
  },
  {
   "cell_type": "code",
   "execution_count": 55,
   "id": "34719abb-3b7b-4037-8bf1-e3f3b508c384",
   "metadata": {},
   "outputs": [],
   "source": [
    "# Group the data by date and activity, then count the occurrences of each activity\n",
    "activity_count_by_date = data.groupby(['date', 'activity'])['activity'].count()"
   ]
  },
  {
   "cell_type": "code",
   "execution_count": 70,
   "id": "4fa0f4ec-ff4d-4f89-8856-5fcf013d0599",
   "metadata": {},
   "outputs": [
    {
     "data": {
      "text/html": [
       "<div>\n",
       "<style scoped>\n",
       "    .dataframe tbody tr th:only-of-type {\n",
       "        vertical-align: middle;\n",
       "    }\n",
       "\n",
       "    .dataframe tbody tr th {\n",
       "        vertical-align: top;\n",
       "    }\n",
       "\n",
       "    .dataframe thead th {\n",
       "        text-align: right;\n",
       "    }\n",
       "</style>\n",
       "<table border=\"1\" class=\"dataframe\">\n",
       "  <thead>\n",
       "    <tr style=\"text-align: right;\">\n",
       "      <th></th>\n",
       "      <th>total_duration_inside</th>\n",
       "      <th>total_duration_outside</th>\n",
       "      <th>picked</th>\n",
       "      <th>placed</th>\n",
       "    </tr>\n",
       "    <tr>\n",
       "      <th>date</th>\n",
       "      <th></th>\n",
       "      <th></th>\n",
       "      <th></th>\n",
       "      <th></th>\n",
       "    </tr>\n",
       "  </thead>\n",
       "  <tbody>\n",
       "    <tr>\n",
       "      <th>2024-01-16</th>\n",
       "      <td>243.4</td>\n",
       "      <td>0.0</td>\n",
       "      <td>40</td>\n",
       "      <td>40</td>\n",
       "    </tr>\n",
       "    <tr>\n",
       "      <th>2024-01-17</th>\n",
       "      <td>216.8</td>\n",
       "      <td>0.0</td>\n",
       "      <td>10</td>\n",
       "      <td>9</td>\n",
       "    </tr>\n",
       "    <tr>\n",
       "      <th>2024-01-18</th>\n",
       "      <td>1014.0</td>\n",
       "      <td>63.5</td>\n",
       "      <td>37</td>\n",
       "      <td>39</td>\n",
       "    </tr>\n",
       "  </tbody>\n",
       "</table>\n",
       "</div>"
      ],
      "text/plain": [
       "            total_duration_inside  total_duration_outside  picked  placed\n",
       "date                                                                     \n",
       "2024-01-16                  243.4                     0.0      40      40\n",
       "2024-01-17                  216.8                     0.0      10       9\n",
       "2024-01-18                 1014.0                    63.5      37      39"
      ]
     },
     "execution_count": 70,
     "metadata": {},
     "output_type": "execute_result"
    }
   ],
   "source": [
    "total_time_df = total_time_by_date_position.unstack(fill_value=0)\n",
    "activity_count_df = activity_count_by_date.unstack(fill_value=0)\n",
    "\n",
    "merged_df = total_time_df.merge(activity_count_df, left_index=True, right_index=True)\n",
    "\n",
    "# Rename the columns\n",
    "merged_df = merged_df.rename(columns={'inside': 'total_duration_inside', 'outside': 'total_duration_outside'})\n",
    "\n",
    "merged_df"
   ]
  },
  {
   "cell_type": "code",
   "execution_count": 71,
   "id": "68b0f992-d73a-44e9-87a5-f00f349ad40c",
   "metadata": {},
   "outputs": [],
   "source": [
    "# Output the DataFrame to a CSV file\n",
    "merged_df.to_csv('output.csv')"
   ]
  },
  {
   "cell_type": "code",
   "execution_count": null,
   "id": "c9fdd28e-f93a-4505-b02e-f954cb7dfcbc",
   "metadata": {},
   "outputs": [],
   "source": []
  }
 ],
 "metadata": {
  "kernelspec": {
   "display_name": "Python 3 (ipykernel)",
   "language": "python",
   "name": "python3"
  },
  "language_info": {
   "codemirror_mode": {
    "name": "ipython",
    "version": 3
   },
   "file_extension": ".py",
   "mimetype": "text/x-python",
   "name": "python",
   "nbconvert_exporter": "python",
   "pygments_lexer": "ipython3",
   "version": "3.11.4"
  }
 },
 "nbformat": 4,
 "nbformat_minor": 5
}
